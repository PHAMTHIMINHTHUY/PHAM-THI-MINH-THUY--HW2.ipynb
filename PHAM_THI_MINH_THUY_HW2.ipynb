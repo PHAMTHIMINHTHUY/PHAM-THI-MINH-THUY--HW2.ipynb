{
  "nbformat": 4,
  "nbformat_minor": 0,
  "metadata": {
    "kernelspec": {
      "display_name": "Python 3 (ipykernel)",
      "language": "python",
      "name": "python3"
    },
    "language_info": {
      "codemirror_mode": {
        "name": "ipython",
        "version": 3
      },
      "file_extension": ".py",
      "mimetype": "text/x-python",
      "name": "python",
      "nbconvert_exporter": "python",
      "pygments_lexer": "ipython3",
      "version": "3.8.6"
    },
    "colab": {
      "name": "PHAM THI MINH THUY- HW2.ipynb",
      "provenance": [],
      "collapsed_sections": []
    }
  },
  "cells": [
    {
      "cell_type": "markdown",
      "metadata": {
        "id": "A3posBit_v77"
      },
      "source": [
        "# Домашнее задание №2 ( балла)\n",
        "\n",
        "## дедлайн 7 октября 18:10\n",
        "### 10 или 9 можно получить, если сдать домашнее задание полностью до 3 октября 23:59, а также верно выполнить задания со звездочками\n",
        "\n",
        "\n",
        "Цель:\n",
        "\n",
        "Отработать навыки работы с основными типами данных в Python.\n",
        "Отработать навыки работы с основными структурами данных в Python."
      ]
    },
    {
      "cell_type": "markdown",
      "metadata": {
        "id": "V3_p-c6m_v78"
      },
      "source": [
        "**NB!** Задания необходимо выполнять таким образом, что переменную/-ые можно было заменить на схожее слово/число/текст/список/и т.д., при этом задание все равно выполнялось бы верно."
      ]
    },
    {
      "cell_type": "markdown",
      "metadata": {
        "id": "5IHy3DUz_v8G"
      },
      "source": [
        "### Часть 1. Списки (16 баллов)"
      ]
    },
    {
      "cell_type": "markdown",
      "metadata": {
        "id": "LF37caBG_v8G"
      },
      "source": [
        "1. (2 балла) Пользователь вводит несколько чисел через запятую. Сделайте из этих чисел список, подсчитайте сумму элементов, среднее, максимальное и минимальное значение. Все результаты подсчетов выведите на экран"
      ]
    },
    {
      "cell_type": "code",
      "metadata": {
        "id": "-LK-7l2V_v8G",
        "colab": {
          "base_uri": "https://localhost:8080/"
        },
        "outputId": "1070083c-fede-43e6-dfa9-017085c6704e"
      },
      "source": [
        "list=(2,3,1,2,1,9,9,7)\n",
        "print(len(list))\n",
        "print(sum(list))\n",
        "print(max(list))\n",
        "print(min(list))"
      ],
      "execution_count": null,
      "outputs": [
        {
          "output_type": "stream",
          "name": "stdout",
          "text": [
            "8\n",
            "34\n",
            "9\n",
            "1\n"
          ]
        }
      ]
    },
    {
      "cell_type": "markdown",
      "metadata": {
        "id": "KLUTNmQk_v8G"
      },
      "source": [
        "2. (2 балла) Даны два списка. \"Слить\" их через один (чередуя элементы то одного, то другого списка).\n",
        "\n",
        "`f = [1,2,3]`\n",
        "\n",
        "`s = ['1','2','3']`\n",
        "\n",
        "Ожидаемый результат:\n",
        "\n",
        "`[1, '1', 2, '2', 3, '3']`\n"
      ]
    },
    {
      "cell_type": "markdown",
      "metadata": {
        "id": "1be1P1k5_v8H"
      },
      "source": [
        "* _Список может быть любого размера, а ваш код все равно должен работать._\n",
        "* _можно заработать + 2 балла к заданию, если сделать его в одну строку_"
      ]
    },
    {
      "cell_type": "code",
      "metadata": {
        "id": "y1VqZ_7P_v8H",
        "colab": {
          "base_uri": "https://localhost:8080/"
        },
        "outputId": "77c870cd-a90f-4c99-decc-b66db4275a0a"
      },
      "source": [
        "f = [1,2,3,4,5,6]\n",
        "s = ['1','2','3','4','5','6']\n",
        "result = [None]*(len(f)+len(s))\n",
        "result[::2] =  f\n",
        "result[1::2] = s\n",
        "result"
      ],
      "execution_count": null,
      "outputs": [
        {
          "output_type": "execute_result",
          "data": {
            "text/plain": [
              "[1, '1', 2, '2', 3, '3', 4, '4', 5, '5', 6, '6']"
            ]
          },
          "metadata": {},
          "execution_count": 1
        }
      ]
    },
    {
      "cell_type": "markdown",
      "metadata": {
        "id": "wAsDtE_0_v8H"
      },
      "source": [
        "3. (4 балла) Создайте следующий лист: \n",
        "\n",
        "`months = [\n",
        "'Декабрь', 'Январь', 'Февраль',\n",
        "'Март', 'Апрель', 'Май',\n",
        "'Июнь', 'Июль', 'Август',\n",
        "'Сентябрь', 'Октябрь', 'Ноябрь'\n",
        "]`. \n",
        "\n",
        "Ваша задача получить из него:\n",
        "    - все зимние месяцы\n",
        "    - все летние месяцы\n",
        "    - каждый второй месяц года начиная с Января\n",
        "    - первые месяцы каждого сезона (4),\n",
        "\n",
        "используя `slice`."
      ]
    },
    {
      "cell_type": "code",
      "metadata": {
        "id": "ol-aAzBb_v8H",
        "colab": {
          "base_uri": "https://localhost:8080/"
        },
        "outputId": "14ea28aa-e197-497e-832f-4f36c3f98782"
      },
      "source": [
        "months = [ 'Декабрь', 'Январь', 'Февраль', 'Март', 'Апрель', 'Май', 'Июнь', 'Июль', 'Август', 'Сентябрь', 'Октябрь', 'Ноябрь' ]\n",
        "newlist1= months[0:3]\n",
        "newlist2= months[6:9]\n",
        "newlist3=months[1:]\n",
        "newlist4= months[::3]\n",
        "print(newlist1)\n",
        "print(newlist2)\n",
        "print(newlist3)\n",
        "print(newlist4)"
      ],
      "execution_count": null,
      "outputs": [
        {
          "output_type": "stream",
          "name": "stdout",
          "text": [
            "['Декабрь', 'Январь', 'Февраль']\n",
            "['Июнь', 'Июль', 'Август']\n",
            "['Январь', 'Февраль', 'Март', 'Апрель', 'Май', 'Июнь', 'Июль', 'Август', 'Сентябрь', 'Октябрь', 'Ноябрь']\n",
            "['Декабрь', 'Март', 'Июнь', 'Сентябрь']\n"
          ]
        }
      ]
    },
    {
      "cell_type": "markdown",
      "metadata": {
        "id": "dyFDN1th_v8H"
      },
      "source": [
        "4. (3 балла) Создайте list \n",
        "\n",
        "`weekdays = ['Понедельник', 2, 'Cреда', 'Четверг', 5]`\n",
        "\n",
        "- Исправьте числа 2 и 5 на Вторник и Пятницу соответственно\n",
        "- Добавьте недостающие дни в конец списка\n",
        "- Посчитайте длину итогового листа"
      ]
    },
    {
      "cell_type": "code",
      "metadata": {
        "id": "mpUCmwn4_v8H",
        "colab": {
          "base_uri": "https://localhost:8080/"
        },
        "outputId": "23dbf843-ace0-484c-d78a-a830607bd07f"
      },
      "source": [
        "weekdays = ['Понедельник', 2, 'Cреда', 'Четверг', 5]\n",
        "print(weekdays)\n",
        "weekdays[1:7:3]= [\"Вторник\", \"Пятницу \"]\n",
        "print(weekdays)\n",
        "addlist= \"Суббота\" ,\"воскресенье\" \n",
        "weekdays.extend(addlist)\n",
        "print(weekdays)\n",
        "print(len(weekdays))"
      ],
      "execution_count": null,
      "outputs": [
        {
          "output_type": "stream",
          "name": "stdout",
          "text": [
            "['Понедельник', 2, 'Cреда', 'Четверг', 5]\n",
            "['Понедельник', 'Вторник', 'Cреда', 'Четверг', 'Пятницу ']\n",
            "['Понедельник', 'Вторник', 'Cреда', 'Четверг', 'Пятницу ', 'Суббота', 'воскресенье']\n",
            "7\n"
          ]
        }
      ]
    },
    {
      "cell_type": "markdown",
      "metadata": {
        "id": "k5RYY1Oljri9"
      },
      "source": [
        "5.(3 балла) Создайте строку (str) 'йтцыу фочтмлзирчйнбою асапырйафвялгяшещшоьрскяу!й\n",
        "\n",
        "- Превратите ее в лист символов\n",
        "- Расшифруйте закодированное в ней сообщение, выбрав из всех символов только символы с нечетным индексом\n",
        "- Превратите полученный лист обратно в строку и напечатайте результат\n",
        "**Hint** вам понадобится функция .join()"
      ]
    },
    {
      "cell_type": "code",
      "metadata": {
        "id": "fJozshnzC69S",
        "colab": {
          "base_uri": "https://localhost:8080/"
        },
        "outputId": "328ce293-7342-4df7-f49f-6afa4712f9fb"
      },
      "source": [
        "str= \"'йтцыу фочтмлзирчйнбою асапырйафвялгяшещшоьрскяу!й\"\n",
        "list(str)\n",
        "for i in str:\n",
        "    print(i)\n",
        "print ( '' . join ( str [ i ]  for i in  range ( 1 , len ( str ) , 2 ) ) )"
      ],
      "execution_count": null,
      "outputs": [
        {
          "output_type": "stream",
          "name": "stdout",
          "text": [
            "'\n",
            "й\n",
            "т\n",
            "ц\n",
            "ы\n",
            "у\n",
            " \n",
            "ф\n",
            "о\n",
            "ч\n",
            "т\n",
            "м\n",
            "л\n",
            "з\n",
            "и\n",
            "р\n",
            "ч\n",
            "й\n",
            "н\n",
            "б\n",
            "о\n",
            "ю\n",
            " \n",
            "а\n",
            "с\n",
            "а\n",
            "п\n",
            "ы\n",
            "р\n",
            "й\n",
            "а\n",
            "ф\n",
            "в\n",
            "я\n",
            "л\n",
            "г\n",
            "я\n",
            "ш\n",
            "е\n",
            "щ\n",
            "ш\n",
            "о\n",
            "ь\n",
            "р\n",
            "с\n",
            "к\n",
            "я\n",
            "у\n",
            "!\n",
            "й\n",
            "йцуфчмзрйбюааыйфягшщоркуй\n"
          ]
        }
      ]
    },
    {
      "cell_type": "markdown",
      "metadata": {
        "id": "hI1vaX97DLgo"
      },
      "source": [
        "6. (2 балла) Дан список (придумайте любой и положите в переменную `my_list`, `input()` использовать не нужно). Проверить, содержит ли данный список повторяющиеся элементы, удалить повторяющиеся элементы (без использования `dict` и `set`)"
      ]
    },
    {
      "cell_type": "code",
      "metadata": {
        "id": "c4_1mkhp_v8H",
        "colab": {
          "base_uri": "https://localhost:8080/"
        },
        "outputId": "7b4129ea-5be2-46fc-fff3-ca78fc117a19"
      },
      "source": [
        "a = [1,8,4,1,3,6,8,4,6,9,5,3,2,4,5]\n",
        "b=set(a)\n",
        "print(a)\n",
        "for i in b:\n",
        "    print(i)"
      ],
      "execution_count": null,
      "outputs": [
        {
          "output_type": "stream",
          "name": "stdout",
          "text": [
            "[1, 8, 4, 1, 3, 6, 8, 4, 6, 9, 5, 3, 2, 4, 5]\n",
            "1\n",
            "2\n",
            "3\n",
            "4\n",
            "5\n",
            "6\n",
            "8\n",
            "9\n"
          ]
        }
      ]
    },
    {
      "cell_type": "markdown",
      "metadata": {
        "id": "nSJWKkvq_v8I"
      },
      "source": [
        "### Часть 2. Кортежи (3 балла)"
      ]
    },
    {
      "cell_type": "markdown",
      "metadata": {
        "id": "hFX4GTq1_v8I"
      },
      "source": [
        "29. (1 балл) Создать кортеж из одного элемента."
      ]
    },
    {
      "cell_type": "code",
      "metadata": {
        "id": "_qcdWtzz_v8I",
        "colab": {
          "base_uri": "https://localhost:8080/"
        },
        "outputId": "f03ac95e-b9a9-4b86-b1c6-238a924c994e"
      },
      "source": [
        "a  =  tuple ( 'You are the best! ' ) \n",
        "print(a)"
      ],
      "execution_count": null,
      "outputs": [
        {
          "output_type": "stream",
          "name": "stdout",
          "text": [
            "('Y', 'o', 'u', ' ', 'a', 'r', 'e', ' ', 't', 'h', 'e', ' ', 'b', 'e', 's', 't', '!', ' ')\n"
          ]
        }
      ]
    },
    {
      "cell_type": "markdown",
      "metadata": {
        "id": "WFrsJtZr_v8I"
      },
      "source": [
        "30. (1 балл) Создайте кортеж из списка, напечатайте его.\n",
        "\n",
        "`months = [\n",
        "'Январь', 'Февраль',\n",
        "'Март', 'Апрель', 'Май',\n",
        "'Июнь', 'Июль', 'Август',\n",
        "'Сентябрь', 'Октябрь', 'Ноябрь'\n",
        "]`"
      ]
    },
    {
      "cell_type": "code",
      "metadata": {
        "id": "1zL4nMN4_v8I",
        "colab": {
          "base_uri": "https://localhost:8080/"
        },
        "outputId": "e6e4ed07-34fa-493d-edbf-b8b0816b5e68"
      },
      "source": [
        "months = [ 'Январь', 'Февраль', 'Март', 'Апрель', 'Май', 'Июнь', 'Июль', 'Август', 'Сентябрь', 'Октябрь', 'Ноябрь' ]\n",
        "mytuple = tuple(months)\n",
        "print(mytuple)"
      ],
      "execution_count": null,
      "outputs": [
        {
          "output_type": "stream",
          "name": "stdout",
          "text": [
            "('Январь', 'Февраль', 'Март', 'Апрель', 'Май', 'Июнь', 'Июль', 'Август', 'Сентябрь', 'Октябрь', 'Ноябрь')\n"
          ]
        }
      ]
    },
    {
      "cell_type": "markdown",
      "metadata": {
        "id": "iGn7e0Ow_v8I"
      },
      "source": [
        "31. (1 балл) Добавьте недостающий месяц (на выходе ожидается кортеж)"
      ]
    },
    {
      "cell_type": "code",
      "metadata": {
        "id": "ZdD0BuYU_v8I",
        "colab": {
          "base_uri": "https://localhost:8080/"
        },
        "outputId": "3de2235d-d728-4333-94d4-2c940fc67b48"
      },
      "source": [
        "months.append(\"Декабрь\")\n",
        "print(months)"
      ],
      "execution_count": null,
      "outputs": [
        {
          "output_type": "stream",
          "name": "stdout",
          "text": [
            "['Январь', 'Февраль', 'Март', 'Апрель', 'Май', 'Июнь', 'Июль', 'Август', 'Сентябрь', 'Октябрь', 'Ноябрь', 'Декабрь']\n"
          ]
        }
      ]
    },
    {
      "cell_type": "markdown",
      "metadata": {
        "id": "netCKvWK_v8I"
      },
      "source": [
        "### Часть 3. Сеты (4 балла)"
      ]
    },
    {
      "cell_type": "markdown",
      "metadata": {
        "id": "vmpZWO8Z_v8I"
      },
      "source": [
        "32. (1 балл) Посчитать, сколько различных букв в слове 'превысокомногорассмотрительствующий'"
      ]
    },
    {
      "cell_type": "code",
      "metadata": {
        "id": "IUBHgO78_v8J",
        "colab": {
          "base_uri": "https://localhost:8080/"
        },
        "outputId": "d01a95f5-0a81-4455-9a92-dd458ec0fa36"
      },
      "source": [
        "for i in reversed(sorted(set('превысокомногорассмотрительствующий'))):\n",
        "    print(i)"
      ],
      "execution_count": null,
      "outputs": [
        {
          "output_type": "stream",
          "name": "stdout",
          "text": [
            "ю\n",
            "ь\n",
            "ы\n",
            "щ\n",
            "у\n",
            "т\n",
            "с\n",
            "р\n",
            "п\n",
            "о\n",
            "н\n",
            "м\n",
            "л\n",
            "к\n",
            "й\n",
            "и\n",
            "е\n",
            "г\n",
            "в\n",
            "а\n"
          ]
        }
      ]
    },
    {
      "cell_type": "markdown",
      "metadata": {
        "id": "EtPaMLQO_v8J"
      },
      "source": [
        "33. (1 балл) Какие различные буквы имеют слова \"превысокомногорассмотрительствующий\" и \"водогрязеторфопарафинолечение\"?"
      ]
    },
    {
      "cell_type": "code",
      "metadata": {
        "id": "dwIdysLu_v8J",
        "colab": {
          "base_uri": "https://localhost:8080/"
        },
        "outputId": "23cad83c-41f6-41eb-f0a1-f82148866e73"
      },
      "source": [
        "a = set('превысокомногорассмотрительствующий')\n",
        "b = set(' водогрязеторфопарафинолечение')\n",
        "print(a^b)\n"
      ],
      "execution_count": null,
      "outputs": [
        {
          "output_type": "stream",
          "name": "stdout",
          "text": [
            "{'д', 'у', ' ', 'ы', 'м', 'ч', 'щ', 'ь', 'й', 'к', 'я', 'з', 'с', 'ф', 'ю'}\n"
          ]
        }
      ]
    },
    {
      "cell_type": "markdown",
      "metadata": {
        "id": "UQxsVL3w_v8J"
      },
      "source": [
        "34. (1 балл) Какие общие буквы имеют слова \"превысокомногорассмотрительствующий\" и \"водогрязеторфопарафинолечение\"?"
      ]
    },
    {
      "cell_type": "code",
      "metadata": {
        "id": "unSFfV_a_v8J",
        "colab": {
          "base_uri": "https://localhost:8080/"
        },
        "outputId": "5d911b4f-2e66-4a68-e076-2610c9f75157"
      },
      "source": [
        "a = set('превысокомногорассмотрительствующий')\n",
        "b = set(' водогрязеторфопарафинолечение')\n",
        "print(a&b)"
      ],
      "execution_count": null,
      "outputs": [
        {
          "output_type": "stream",
          "name": "stdout",
          "text": [
            "{'л', 'р', 'о', 'т', 'в', 'п', 'г', 'и', 'н', 'е', 'а'}\n"
          ]
        }
      ]
    },
    {
      "cell_type": "markdown",
      "metadata": {
        "id": "GauGi3oF_v8J"
      },
      "source": [
        "35. (1 балл) Есть ли буквы в слове \"превысокомногорассмотрительствующий\", которых нет в слове \"водогрязеторфопарафинолечение\"? А наоборот?"
      ]
    },
    {
      "cell_type": "code",
      "metadata": {
        "id": "TfTtSHFY_v8J",
        "colab": {
          "base_uri": "https://localhost:8080/"
        },
        "outputId": "035da2d0-59ec-453a-9fd5-6d7ebb30b891"
      },
      "source": [
        "a = set('превысокомногорассмотрительствующий')\n",
        "b = set(' водогрязеторфопарафинолечение')\n",
        "print(a-b)\n",
        "print(b-a)"
      ],
      "execution_count": null,
      "outputs": [
        {
          "output_type": "stream",
          "name": "stdout",
          "text": [
            "{'к', 'у', 'ы', 'м', 'щ', 'с', 'ь', 'й', 'ю'}\n",
            "{'д', 'я', ' ', 'з', 'ч', 'ф'}\n"
          ]
        }
      ]
    },
    {
      "cell_type": "markdown",
      "metadata": {
        "id": "E2sczfkn_v8J"
      },
      "source": [
        "### Часть 6. Словари и полезные вещи (10 баллов)"
      ]
    },
    {
      "cell_type": "markdown",
      "metadata": {
        "id": "VxZ4E8JhEHxD"
      },
      "source": [
        "Дан текст. Текст приведен к начальной форме уже за вас (мы это научимся делать на следующем занятии).\n",
        "```\n",
        "1. DJ Khaled замутить трек, в который читать только Drake. \n",
        "2. Drake организовывать на этот песня очень крутой клип, в который вместо он сниматься только джастин бибер.\n",
        "\n",
        "видимо, награда за весь это быть получать леонардо дикаприо 😅\n",
        "\n",
        "в клип джастин, кстати, выглядеть очень бодрый и наконец выздоравливать от болезнь и депрессия.\n",
        "отдельный прикол в то, что он там «читать» строчка про свой бывший девушка селен гомес, про себя сам и про то, насколько дрейк - крутой они все и взрывать индустрия 😂🤟\n",
        "```"
      ]
    },
    {
      "cell_type": "markdown",
      "metadata": {
        "id": "hGBIV3hS_v8K"
      },
      "source": [
        "36. (1 балл) Запишите его в переменную. Обратите внимание, что текст многострочный -- переносы строки нужно сохранить!"
      ]
    },
    {
      "cell_type": "code",
      "metadata": {
        "id": "BLB2YgyY_v8K"
      },
      "source": [
        "def print_string(s=\"\"\"1. DJ Khaled замутить трек, в который читать только Drake. \n",
        "2. Drake организовывать на этот песня очень крутой клип, в который вместо он сниматься только джастин бибер.\n",
        "\n",
        "видимо, награда за весь это быть получать леонардо дикаприо 😅\n",
        "\n",
        "в клип джастин, кстати, выглядеть очень бодрый и наконец выздоравливать от болезнь и депрессия.\n",
        "отдельный прикол в то, что он там «читать» строчка про свой бывший девушка селен гомес, про себя сам и про то, насколько дрейк - крутой они все и взрывать индустрия 😂🤟\"\"\"):\n",
        "   \n",
        "    print(print_string(s))\n"
      ],
      "execution_count": 38,
      "outputs": []
    },
    {
      "cell_type": "markdown",
      "metadata": {
        "id": "Z2529Ids_v8K"
      },
      "source": [
        " 37. (1 балл) Разделите текст на предложения (используя `\"\\n\"`) "
      ]
    },
    {
      "cell_type": "code",
      "metadata": {
        "id": "DWR1Ckig_v8K",
        "colab": {
          "base_uri": "https://localhost:8080/"
        },
        "outputId": "b60e3d08-412c-49fc-95cf-46200d2a7188"
      },
      "source": [
        "text =\"\"\"1. DJ Khaled замутить трек, в который читать только Drake. \n",
        "2. Drake организовывать на этот песня очень крутой клип, в который вместо он сниматься только джастин бибер.\n",
        "\n",
        "видимо, награда за весь это быть получать леонардо дикаприо 😅\n",
        "\n",
        "в клип джастин, кстати, выглядеть очень бодрый и наконец выздоравливать от болезнь и депрессия.\n",
        "отдельный прикол в то, что он там  строчка про свой бывший девушка селен гомес, про себя сам и про то, насколько дрейк - крутой они все и взрывать индустрия 😂🤟'\"\"\"\n",
        "sentences = text.split('\\n')\n",
        "sentences\n"
      ],
      "execution_count": null,
      "outputs": [
        {
          "output_type": "execute_result",
          "data": {
            "text/plain": [
              "['1. DJ Khaled замутить трек, в который читать только Drake. ',\n",
              " '2. Drake организовывать на этот песня очень крутой клип, в который вместо он сниматься только джастин бибер.',\n",
              " '',\n",
              " 'видимо, награда за весь это быть получать леонардо дикаприо 😅',\n",
              " '',\n",
              " 'в клип джастин, кстати, выглядеть очень бодрый и наконец выздоравливать от болезнь и депрессия.',\n",
              " \"отдельный прикол в то, что он там «читать» строчка про свой бывший девушка селен гомес, про себя сам и про то, насколько дрейк - крутой они все и взрывать индустрия 😂🤟'\"]"
            ]
          },
          "metadata": {},
          "execution_count": 2
        }
      ]
    },
    {
      "cell_type": "markdown",
      "metadata": {
        "id": "pa1_7zAS_v8K"
      },
      "source": [
        "38. (2 балла) Разделите предложения на слова, удалите пунктуацию до и после слов, используя `.strip()`. И кавычки тоже удалите."
      ]
    },
    {
      "cell_type": "code",
      "metadata": {
        "id": "Fj0ZPwO1_v8K",
        "colab": {
          "base_uri": "https://localhost:8080/"
        },
        "outputId": "0cfca6ec-4705-4cf0-e6f9-c521ee8345a7"
      },
      "source": [
        "from string import punctuation\n",
        "punct = \",.«»\"\n",
        "\n",
        "sentences_with_words = []\n",
        "\n",
        "for sentence in sentences:\n",
        "    sentences_with_words.append([i.strip(punct) for i in sentence.split()])\n",
        "\n",
        "sentences_with_words"
      ],
      "execution_count": null,
      "outputs": [
        {
          "output_type": "execute_result",
          "data": {
            "text/plain": [
              "[['1',\n",
              "  'DJ',\n",
              "  'Khaled',\n",
              "  'замутить',\n",
              "  'трек',\n",
              "  'в',\n",
              "  'который',\n",
              "  'читать',\n",
              "  'только',\n",
              "  'Drake'],\n",
              " ['2',\n",
              "  'Drake',\n",
              "  'организовывать',\n",
              "  'на',\n",
              "  'этот',\n",
              "  'песня',\n",
              "  'очень',\n",
              "  'крутой',\n",
              "  'клип',\n",
              "  'в',\n",
              "  'который',\n",
              "  'вместо',\n",
              "  'он',\n",
              "  'сниматься',\n",
              "  'только',\n",
              "  'джастин',\n",
              "  'бибер'],\n",
              " [],\n",
              " ['видимо',\n",
              "  'награда',\n",
              "  'за',\n",
              "  'весь',\n",
              "  'это',\n",
              "  'быть',\n",
              "  'получать',\n",
              "  'леонардо',\n",
              "  'дикаприо',\n",
              "  '😅'],\n",
              " [],\n",
              " ['в',\n",
              "  'клип',\n",
              "  'джастин',\n",
              "  'кстати',\n",
              "  'выглядеть',\n",
              "  'очень',\n",
              "  'бодрый',\n",
              "  'и',\n",
              "  'наконец',\n",
              "  'выздоравливать',\n",
              "  'от',\n",
              "  'болезнь',\n",
              "  'и',\n",
              "  'депрессия'],\n",
              " ['отдельный',\n",
              "  'прикол',\n",
              "  'в',\n",
              "  'то',\n",
              "  'что',\n",
              "  'он',\n",
              "  'там',\n",
              "  'читать',\n",
              "  'строчка',\n",
              "  'про',\n",
              "  'свой',\n",
              "  'бывший',\n",
              "  'девушка',\n",
              "  'селен',\n",
              "  'гомес',\n",
              "  'про',\n",
              "  'себя',\n",
              "  'сам',\n",
              "  'и',\n",
              "  'про',\n",
              "  'то',\n",
              "  'насколько',\n",
              "  'дрейк',\n",
              "  '-',\n",
              "  'крутой',\n",
              "  'они',\n",
              "  'все',\n",
              "  'и',\n",
              "  'взрывать',\n",
              "  'индустрия',\n",
              "  \"😂🤟'\"]]"
            ]
          },
          "metadata": {},
          "execution_count": 14
        }
      ]
    },
    {
      "cell_type": "markdown",
      "metadata": {
        "id": "H6JJW1GH_v8K"
      },
      "source": [
        "39. (2 балла) Создайте словарь, в котором ключ -- слово из текста, а значение -- количество раз, сколько оно встречается во всем тексте.\n",
        "\n",
        "например:\n",
        "\n",
        "`dct = {\"go\": 1, \"went\": 2, \"gone\": 3}`\n",
        "\n",
        "Напечатайте словарь"
      ]
    },
    {
      "cell_type": "code",
      "metadata": {
        "id": "cy5_T8yM_v8L",
        "colab": {
          "base_uri": "https://localhost:8080/"
        },
        "outputId": "7df12d69-a5e7-412b-ae44-f66a62b825fa"
      },
      "source": [
        ">>> d = dict.fromkeys(['крутой'])\n",
        ">>> d\n",
        "{'a': None}\n",
        ">>> d = dict.fromkeys(['a'], 2)\n",
        ">>> d\n",
        "\n",
        "\n"
      ],
      "execution_count": 42,
      "outputs": [
        {
          "output_type": "execute_result",
          "data": {
            "text/plain": [
              "{'a': 2}"
            ]
          },
          "metadata": {},
          "execution_count": 42
        }
      ]
    },
    {
      "cell_type": "markdown",
      "metadata": {
        "id": "lCKeMfMY_v8L"
      },
      "source": [
        "40. (2 балла) Напечатайте слова, встречающиеся более 1 раза в формате `\"слово кол-во раз\"` через пробел.\n",
        "\n",
        "    * Если сможете напечатать в порядке убывания (от большего к меньшему) + 2 балла"
      ]
    },
    {
      "cell_type": "code",
      "metadata": {
        "id": "bd5BAdeu_v8L",
        "colab": {
          "base_uri": "https://localhost:8080/"
        },
        "outputId": "6edd24f4-f083-44e3-f56e-9a8759d830f6"
      },
      "source": [
        "string = \"\"\"1. DJ Khaled замутить трек, в который читать только Drake. \n",
        "2. Drake организовывать на этот песня очень крутой клип, в который вместо он сниматься только джастин бибер.\n",
        "\n",
        "видимо, награда за весь это быть получать леонардо дикаприо 😅\n",
        "\n",
        "в клип джастин, кстати, выглядеть очень бодрый и наконец выздоравливать от болезнь и депрессия.\n",
        "отдельный прикол в то, что он там «читать» строчка про свой бывший девушка селен гомес, про себя сам и про то, насколько дрейк - крутой они все и взрывать индустрия 😂🤟\"\"\"\n",
        "str = string.split(\" \")\n",
        "count={}\n",
        "for i in str:\n",
        "    if i in count:\n",
        "        count[i]+=1\n",
        "    else:\n",
        "        count[i]=1\n",
        " \n",
        "for i in sorted(count, key=count.get, reverse = True):\n",
        "       print(i, count[i])"
      ],
      "execution_count": 31,
      "outputs": [
        {
          "output_type": "stream",
          "name": "stdout",
          "text": [
            "и 4\n",
            "в 3\n",
            "про 3\n",
            "который 2\n",
            "только 2\n",
            "очень 2\n",
            "крутой 2\n",
            "он 2\n",
            "то, 2\n",
            "1. 1\n",
            "DJ 1\n",
            "Khaled 1\n",
            "замутить 1\n",
            "трек, 1\n",
            "читать 1\n",
            "Drake. 1\n",
            "\n",
            "2. 1\n",
            "Drake 1\n",
            "организовывать 1\n",
            "на 1\n",
            "этот 1\n",
            "песня 1\n",
            "клип, 1\n",
            "вместо 1\n",
            "сниматься 1\n",
            "джастин 1\n",
            "бибер.\n",
            "\n",
            "видимо, 1\n",
            "награда 1\n",
            "за 1\n",
            "весь 1\n",
            "это 1\n",
            "быть 1\n",
            "получать 1\n",
            "леонардо 1\n",
            "дикаприо 1\n",
            "😅\n",
            "\n",
            "в 1\n",
            "клип 1\n",
            "джастин, 1\n",
            "кстати, 1\n",
            "выглядеть 1\n",
            "бодрый 1\n",
            "наконец 1\n",
            "выздоравливать 1\n",
            "от 1\n",
            "болезнь 1\n",
            "депрессия.\n",
            "отдельный 1\n",
            "прикол 1\n",
            "что 1\n",
            "там 1\n",
            "«читать» 1\n",
            "строчка 1\n",
            "свой 1\n",
            "бывший 1\n",
            "девушка 1\n",
            "селен 1\n",
            "гомес, 1\n",
            "себя 1\n",
            "сам 1\n",
            "насколько 1\n",
            "дрейк 1\n",
            "- 1\n",
            "они 1\n",
            "все 1\n",
            "взрывать 1\n",
            "индустрия 1\n",
            "😂🤟 1\n"
          ]
        }
      ]
    },
    {
      "cell_type": "markdown",
      "metadata": {
        "id": "6mEkbtQk_v8M"
      },
      "source": [
        "41. (2 балла) Пользователь вводит с клавиатуры какое-нибудь слово.\n",
        "Проверяем, есть ли слово в массиве: если нет, добавляем его туда и печатаем \"Слово X добавлено\", а если есть, то печатаем ответ \"Слово X в тексте N раз\"."
      ]
    },
    {
      "cell_type": "code",
      "metadata": {
        "id": "JvQMP8wR_v8M",
        "colab": {
          "base_uri": "https://localhost:8080/"
        },
        "outputId": "a95c5230-5016-4173-fd5c-30519dd915a1"
      },
      "source": [
        "import re\n",
        "word = input()\n",
        "list=(re.findall(r\"[\\w']+\", words))\n",
        "if word in list:\n",
        "    print('Слово ' + n + ' добавлено')\n",
        "else:\n",
        "    print('Слово ' + n + ' в тексте ' + c + ' раз')\n"
      ],
      "execution_count": 14,
      "outputs": [
        {
          "output_type": "stream",
          "name": "stdout",
          "text": [
            "привет\n",
            "Слово в добавлено\n"
          ]
        }
      ]
    },
    {
      "cell_type": "markdown",
      "metadata": {
        "id": "YTZ_hhhBFasx"
      },
      "source": [
        "## Задания со звездочкой (9 или 10 можно получить, решив эти задания)"
      ]
    },
    {
      "cell_type": "markdown",
      "metadata": {
        "id": "159FPHDYFpk1"
      },
      "source": [
        "42. По заданному n вывести левосторонний треугольник из следующих цифр:\n"
      ]
    },
    {
      "cell_type": "code",
      "metadata": {
        "colab": {
          "base_uri": "https://localhost:8080/"
        },
        "id": "KqJoZEUIFaEd",
        "outputId": "c9b2bb17-6410-4bff-f7ca-4672f389d7a0"
      },
      "source": [
        "rows = 9\n",
        "for row in range(0, rows+1):\n",
        "    for column in range(0, row + 1):\n",
        "        print(column, end=' ')\n",
        "    print(\"\")\n",
        " "
      ],
      "execution_count": null,
      "outputs": [
        {
          "output_type": "stream",
          "name": "stdout",
          "text": [
            "0 \n",
            "0 1 \n",
            "0 1 2 \n",
            "0 1 2 3 \n",
            "0 1 2 3 4 \n",
            "0 1 2 3 4 5 \n",
            "0 1 2 3 4 5 6 \n",
            "0 1 2 3 4 5 6 7 \n",
            "0 1 2 3 4 5 6 7 8 \n",
            "0 1 2 3 4 5 6 7 8 9 \n"
          ]
        }
      ]
    },
    {
      "cell_type": "markdown",
      "metadata": {
        "id": "-9rUNF4-Fofe"
      },
      "source": [
        "43. По заданному n вывести перевернутый правосторонний треугольник из следующих цифр"
      ]
    },
    {
      "cell_type": "code",
      "metadata": {
        "id": "Sa7ZDOa-Fm7O",
        "colab": {
          "base_uri": "https://localhost:8080/",
          "height": 130
        },
        "outputId": "4c1e8178-e2ec-432b-dbad-7916fe6732e7"
      },
      "source": [
        ""
      ],
      "execution_count": 16,
      "outputs": [
        {
          "output_type": "error",
          "ename": "SyntaxError",
          "evalue": "ignored",
          "traceback": [
            "\u001b[0;36m  File \u001b[0;32m\"<ipython-input-16-221a68ea06d2>\"\u001b[0;36m, line \u001b[0;32m2\u001b[0m\n\u001b[0;31m    for row in range(0, rows+=1):\u001b[0m\n\u001b[0m                             ^\u001b[0m\n\u001b[0;31mSyntaxError\u001b[0m\u001b[0;31m:\u001b[0m invalid syntax\n"
          ]
        }
      ]
    },
    {
      "cell_type": "markdown",
      "metadata": {
        "id": "y1BSSdWe_v8N"
      },
      "source": [
        "#### Напишите ниже вашу обратную связь по домашнему заданию в комментарии. \n",
        "\n",
        "#### Какие задания показались вам самыми сложными / простыми? Что понравилось, а что нет?"
      ]
    },
    {
      "cell_type": "code",
      "metadata": {
        "id": "xciAjxQG_v8N"
      },
      "source": [
        ""
      ],
      "execution_count": null,
      "outputs": []
    }
  ]
}